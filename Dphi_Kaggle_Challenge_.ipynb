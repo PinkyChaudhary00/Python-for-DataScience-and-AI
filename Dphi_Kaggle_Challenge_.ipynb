{
  "nbformat": 4,
  "nbformat_minor": 0,
  "metadata": {
    "colab": {
      "name": "Dphi Kaggle Challenge .ipynb",
      "provenance": [],
      "collapsed_sections": [],
      "authorship_tag": "ABX9TyMIepAlMNbpn1ZQ0dzxiLdd"
    },
    "kernelspec": {
      "name": "python3",
      "display_name": "Python 3"
    },
    "accelerator": "GPU"
  },
  "cells": [
    {
      "cell_type": "code",
      "metadata": {
        "id": "FdPM-sHyn-hf",
        "colab_type": "code",
        "colab": {}
      },
      "source": [
        "! pip install -q kaggle"
      ],
      "execution_count": null,
      "outputs": []
    },
    {
      "cell_type": "code",
      "metadata": {
        "id": "xC90gRN3omjv",
        "colab_type": "code",
        "colab": {
          "base_uri": "https://localhost:8080/",
          "height": 34
        },
        "outputId": "90decc06-8403-4d8e-bc15-001866e32723"
      },
      "source": [
        "! mkdir ~/.kaggle\n",
        "! cp kaggle.json ~/.kaggle/\n",
        "! chmod 600 ~/.kaggle/kaggle.json"
      ],
      "execution_count": null,
      "outputs": [
        {
          "output_type": "stream",
          "text": [
            "mkdir: cannot create directory ‘/root/.kaggle’: File exists\n"
          ],
          "name": "stdout"
        }
      ]
    },
    {
      "cell_type": "code",
      "metadata": {
        "id": "PIfFDPjPo-p_",
        "colab_type": "code",
        "colab": {
          "base_uri": "https://localhost:8080/",
          "height": 85
        },
        "outputId": "520626ab-9d8d-4fb3-f13f-7860a0c83b08"
      },
      "source": [
        "!kaggle competitions download -c dphi-amsterdam-airbnb-data"
      ],
      "execution_count": null,
      "outputs": [
        {
          "output_type": "stream",
          "text": [
            "Warning: Looks like you're using an outdated API Version, please consider updating (server 1.5.6 / client 1.5.4)\n",
            "airbnb_listing_validate.csv: Skipping, found more recently modified local copy (use --force to force download)\n",
            "sample_submission.csv: Skipping, found more recently modified local copy (use --force to force download)\n",
            "airbnb_listing_train.csv.zip: Skipping, found more recently modified local copy (use --force to force download)\n"
          ],
          "name": "stdout"
        }
      ]
    },
    {
      "cell_type": "code",
      "metadata": {
        "id": "b3onSwWqpWWy",
        "colab_type": "code",
        "colab": {
          "base_uri": "https://localhost:8080/",
          "height": 68
        },
        "outputId": "60e4ed24-d75e-40bc-9f11-691e39575ea6"
      },
      "source": [
        "!unzip /content/airbnb_listing_train.csv.zip "
      ],
      "execution_count": null,
      "outputs": [
        {
          "output_type": "stream",
          "text": [
            "Archive:  /content/airbnb_listing_train.csv.zip\n",
            "replace airbnb_listing_train.csv? [y]es, [n]o, [A]ll, [N]one, [r]ename: y\n",
            "  inflating: airbnb_listing_train.csv  \n"
          ],
          "name": "stdout"
        }
      ]
    },
    {
      "cell_type": "code",
      "metadata": {
        "id": "U1JqrKPypBYb",
        "colab_type": "code",
        "colab": {}
      },
      "source": [
        "import pandas as pd\n",
        "import numpy as np\n",
        "import seaborn as sns\n",
        "import matplotlib.pyplot as plt"
      ],
      "execution_count": null,
      "outputs": []
    },
    {
      "cell_type": "code",
      "metadata": {
        "id": "5v2EzbahpI5f",
        "colab_type": "code",
        "colab": {}
      },
      "source": [
        "df = pd.read_csv('/content/airbnb_listing_train.csv')"
      ],
      "execution_count": null,
      "outputs": []
    },
    {
      "cell_type": "code",
      "metadata": {
        "id": "1V-O4qgKpSSj",
        "colab_type": "code",
        "colab": {
          "base_uri": "https://localhost:8080/",
          "height": 408
        },
        "outputId": "3c6f8470-de2a-4363-d7c1-b13a409248f1"
      },
      "source": [
        "df.info()"
      ],
      "execution_count": null,
      "outputs": [
        {
          "output_type": "stream",
          "text": [
            "<class 'pandas.core.frame.DataFrame'>\n",
            "RangeIndex: 12901 entries, 0 to 12900\n",
            "Data columns (total 16 columns):\n",
            " #   Column                          Non-Null Count  Dtype  \n",
            "---  ------                          --------------  -----  \n",
            " 0   id                              12901 non-null  int64  \n",
            " 1   name                            12879 non-null  object \n",
            " 2   host_id                         12901 non-null  int64  \n",
            " 3   host_name                       12893 non-null  object \n",
            " 4   neighbourhood_group             0 non-null      float64\n",
            " 5   neighbourhood                   12901 non-null  object \n",
            " 6   latitude                        12901 non-null  float64\n",
            " 7   longitude                       12901 non-null  float64\n",
            " 8   room_type                       12901 non-null  object \n",
            " 9   minimum_nights                  12901 non-null  int64  \n",
            " 10  number_of_reviews               12901 non-null  int64  \n",
            " 11  last_review                     11305 non-null  object \n",
            " 12  reviews_per_month               11305 non-null  float64\n",
            " 13  calculated_host_listings_count  12901 non-null  int64  \n",
            " 14  availability_365                12901 non-null  int64  \n",
            " 15  price                           12901 non-null  int64  \n",
            "dtypes: float64(4), int64(7), object(5)\n",
            "memory usage: 1.6+ MB\n"
          ],
          "name": "stdout"
        }
      ]
    },
    {
      "cell_type": "code",
      "metadata": {
        "id": "2H36pbUEpvhJ",
        "colab_type": "code",
        "colab": {
          "base_uri": "https://localhost:8080/",
          "height": 428
        },
        "outputId": "9c6cf9e9-fa47-45e5-b31b-d6b9f7bea7a9"
      },
      "source": [
        "df.head()"
      ],
      "execution_count": null,
      "outputs": [
        {
          "output_type": "execute_result",
          "data": {
            "text/html": [
              "<div>\n",
              "<style scoped>\n",
              "    .dataframe tbody tr th:only-of-type {\n",
              "        vertical-align: middle;\n",
              "    }\n",
              "\n",
              "    .dataframe tbody tr th {\n",
              "        vertical-align: top;\n",
              "    }\n",
              "\n",
              "    .dataframe thead th {\n",
              "        text-align: right;\n",
              "    }\n",
              "</style>\n",
              "<table border=\"1\" class=\"dataframe\">\n",
              "  <thead>\n",
              "    <tr style=\"text-align: right;\">\n",
              "      <th></th>\n",
              "      <th>id</th>\n",
              "      <th>name</th>\n",
              "      <th>host_id</th>\n",
              "      <th>host_name</th>\n",
              "      <th>neighbourhood_group</th>\n",
              "      <th>neighbourhood</th>\n",
              "      <th>latitude</th>\n",
              "      <th>longitude</th>\n",
              "      <th>room_type</th>\n",
              "      <th>minimum_nights</th>\n",
              "      <th>number_of_reviews</th>\n",
              "      <th>last_review</th>\n",
              "      <th>reviews_per_month</th>\n",
              "      <th>calculated_host_listings_count</th>\n",
              "      <th>availability_365</th>\n",
              "      <th>price</th>\n",
              "    </tr>\n",
              "  </thead>\n",
              "  <tbody>\n",
              "    <tr>\n",
              "      <th>0</th>\n",
              "      <td>11602914</td>\n",
              "      <td>Luxury home 100m2+garden in center!</td>\n",
              "      <td>3123809</td>\n",
              "      <td>Marjolein</td>\n",
              "      <td>nan</td>\n",
              "      <td>De Pijp - Rivierenbuurt</td>\n",
              "      <td>52.35</td>\n",
              "      <td>4.90</td>\n",
              "      <td>Entire home/apt</td>\n",
              "      <td>3</td>\n",
              "      <td>13</td>\n",
              "      <td>15-02-2020</td>\n",
              "      <td>0.27</td>\n",
              "      <td>1</td>\n",
              "      <td>0</td>\n",
              "      <td>220</td>\n",
              "    </tr>\n",
              "    <tr>\n",
              "      <th>1</th>\n",
              "      <td>13289321</td>\n",
              "      <td>East is where your home is!</td>\n",
              "      <td>10259430</td>\n",
              "      <td>Ana</td>\n",
              "      <td>nan</td>\n",
              "      <td>Oud-Oost</td>\n",
              "      <td>52.36</td>\n",
              "      <td>4.92</td>\n",
              "      <td>Entire home/apt</td>\n",
              "      <td>4</td>\n",
              "      <td>14</td>\n",
              "      <td>19-06-2019</td>\n",
              "      <td>0.29</td>\n",
              "      <td>1</td>\n",
              "      <td>0</td>\n",
              "      <td>110</td>\n",
              "    </tr>\n",
              "    <tr>\n",
              "      <th>2</th>\n",
              "      <td>40779315</td>\n",
              "      <td>Amsterdam Central - LUXURY house in BUSY STREET</td>\n",
              "      <td>224969266</td>\n",
              "      <td>Mark</td>\n",
              "      <td>nan</td>\n",
              "      <td>Centrum-West</td>\n",
              "      <td>52.38</td>\n",
              "      <td>4.90</td>\n",
              "      <td>Entire home/apt</td>\n",
              "      <td>2</td>\n",
              "      <td>9</td>\n",
              "      <td>16-03-2020</td>\n",
              "      <td>1.65</td>\n",
              "      <td>1</td>\n",
              "      <td>7</td>\n",
              "      <td>100</td>\n",
              "    </tr>\n",
              "    <tr>\n",
              "      <th>3</th>\n",
              "      <td>7820311</td>\n",
              "      <td>great appartment down town</td>\n",
              "      <td>693472</td>\n",
              "      <td>Ayden</td>\n",
              "      <td>nan</td>\n",
              "      <td>Westerpark</td>\n",
              "      <td>52.38</td>\n",
              "      <td>4.87</td>\n",
              "      <td>Entire home/apt</td>\n",
              "      <td>3</td>\n",
              "      <td>42</td>\n",
              "      <td>17-02-2020</td>\n",
              "      <td>0.72</td>\n",
              "      <td>1</td>\n",
              "      <td>0</td>\n",
              "      <td>130</td>\n",
              "    </tr>\n",
              "    <tr>\n",
              "      <th>4</th>\n",
              "      <td>27346603</td>\n",
              "      <td>Private room with canal view in peaceful area</td>\n",
              "      <td>41888346</td>\n",
              "      <td>Alissa</td>\n",
              "      <td>nan</td>\n",
              "      <td>Westerpark</td>\n",
              "      <td>52.38</td>\n",
              "      <td>4.87</td>\n",
              "      <td>Private room</td>\n",
              "      <td>2</td>\n",
              "      <td>89</td>\n",
              "      <td>26-02-2020</td>\n",
              "      <td>4.02</td>\n",
              "      <td>1</td>\n",
              "      <td>24</td>\n",
              "      <td>90</td>\n",
              "    </tr>\n",
              "  </tbody>\n",
              "</table>\n",
              "</div>"
            ],
            "text/plain": [
              "         id  ... price\n",
              "0  11602914  ...   220\n",
              "1  13289321  ...   110\n",
              "2  40779315  ...   100\n",
              "3   7820311  ...   130\n",
              "4  27346603  ...    90\n",
              "\n",
              "[5 rows x 16 columns]"
            ]
          },
          "metadata": {
            "tags": []
          },
          "execution_count": 172
        }
      ]
    },
    {
      "cell_type": "code",
      "metadata": {
        "id": "qqJQH4B3p-7y",
        "colab_type": "code",
        "colab": {
          "base_uri": "https://localhost:8080/",
          "height": 306
        },
        "outputId": "f0c61aa3-a07a-46cd-e3dd-9611dc37ae72"
      },
      "source": [
        "df.isnull().sum()"
      ],
      "execution_count": null,
      "outputs": [
        {
          "output_type": "execute_result",
          "data": {
            "text/plain": [
              "id                                    0\n",
              "name                                 22\n",
              "host_id                               0\n",
              "host_name                             8\n",
              "neighbourhood_group               12901\n",
              "neighbourhood                         0\n",
              "latitude                              0\n",
              "longitude                             0\n",
              "room_type                             0\n",
              "minimum_nights                        0\n",
              "number_of_reviews                     0\n",
              "last_review                        1596\n",
              "reviews_per_month                  1596\n",
              "calculated_host_listings_count        0\n",
              "availability_365                      0\n",
              "price                                 0\n",
              "dtype: int64"
            ]
          },
          "metadata": {
            "tags": []
          },
          "execution_count": 173
        }
      ]
    },
    {
      "cell_type": "code",
      "metadata": {
        "id": "k1ffXysvvkU5",
        "colab_type": "code",
        "colab": {
          "base_uri": "https://localhost:8080/",
          "height": 728
        },
        "outputId": "f2300f0d-f69e-4940-8627-ac144950537a"
      },
      "source": [
        "df[df['reviews_per_month'].isnull()==True]"
      ],
      "execution_count": null,
      "outputs": [
        {
          "output_type": "execute_result",
          "data": {
            "text/html": [
              "<div>\n",
              "<style scoped>\n",
              "    .dataframe tbody tr th:only-of-type {\n",
              "        vertical-align: middle;\n",
              "    }\n",
              "\n",
              "    .dataframe tbody tr th {\n",
              "        vertical-align: top;\n",
              "    }\n",
              "\n",
              "    .dataframe thead th {\n",
              "        text-align: right;\n",
              "    }\n",
              "</style>\n",
              "<table border=\"1\" class=\"dataframe\">\n",
              "  <thead>\n",
              "    <tr style=\"text-align: right;\">\n",
              "      <th></th>\n",
              "      <th>id</th>\n",
              "      <th>name</th>\n",
              "      <th>host_id</th>\n",
              "      <th>host_name</th>\n",
              "      <th>neighbourhood_group</th>\n",
              "      <th>neighbourhood</th>\n",
              "      <th>latitude</th>\n",
              "      <th>longitude</th>\n",
              "      <th>room_type</th>\n",
              "      <th>minimum_nights</th>\n",
              "      <th>number_of_reviews</th>\n",
              "      <th>last_review</th>\n",
              "      <th>reviews_per_month</th>\n",
              "      <th>calculated_host_listings_count</th>\n",
              "      <th>availability_365</th>\n",
              "      <th>price</th>\n",
              "    </tr>\n",
              "  </thead>\n",
              "  <tbody>\n",
              "    <tr>\n",
              "      <th>6</th>\n",
              "      <td>1955400</td>\n",
              "      <td>Gorgeous family home near Museum Sq</td>\n",
              "      <td>1326792</td>\n",
              "      <td>Edward</td>\n",
              "      <td>nan</td>\n",
              "      <td>Centrum-Oost</td>\n",
              "      <td>52.36</td>\n",
              "      <td>4.90</td>\n",
              "      <td>Entire home/apt</td>\n",
              "      <td>2</td>\n",
              "      <td>0</td>\n",
              "      <td>NaN</td>\n",
              "      <td>nan</td>\n",
              "      <td>1</td>\n",
              "      <td>0</td>\n",
              "      <td>225</td>\n",
              "    </tr>\n",
              "    <tr>\n",
              "      <th>13</th>\n",
              "      <td>16565978</td>\n",
              "      <td>Historic Dutch Barge - 1870s Built - Sleeps 4</td>\n",
              "      <td>1446243</td>\n",
              "      <td>Alasdair</td>\n",
              "      <td>nan</td>\n",
              "      <td>Centrum-Oost</td>\n",
              "      <td>52.37</td>\n",
              "      <td>4.92</td>\n",
              "      <td>Entire home/apt</td>\n",
              "      <td>21</td>\n",
              "      <td>0</td>\n",
              "      <td>NaN</td>\n",
              "      <td>nan</td>\n",
              "      <td>1</td>\n",
              "      <td>0</td>\n",
              "      <td>20</td>\n",
              "    </tr>\n",
              "    <tr>\n",
              "      <th>21</th>\n",
              "      <td>18584642</td>\n",
              "      <td>Amsterdam</td>\n",
              "      <td>129037804</td>\n",
              "      <td>Jolanda</td>\n",
              "      <td>nan</td>\n",
              "      <td>De Aker - Nieuw Sloten</td>\n",
              "      <td>52.34</td>\n",
              "      <td>4.79</td>\n",
              "      <td>Entire home/apt</td>\n",
              "      <td>4</td>\n",
              "      <td>0</td>\n",
              "      <td>NaN</td>\n",
              "      <td>nan</td>\n",
              "      <td>1</td>\n",
              "      <td>0</td>\n",
              "      <td>250</td>\n",
              "    </tr>\n",
              "    <tr>\n",
              "      <th>23</th>\n",
              "      <td>41515131</td>\n",
              "      <td>Super Unique Stay At Authentic Ship Amsterdam</td>\n",
              "      <td>140199696</td>\n",
              "      <td>Douwe</td>\n",
              "      <td>nan</td>\n",
              "      <td>Oostelijk Havengebied - Indische Buurt</td>\n",
              "      <td>52.38</td>\n",
              "      <td>4.94</td>\n",
              "      <td>Private room</td>\n",
              "      <td>2</td>\n",
              "      <td>0</td>\n",
              "      <td>NaN</td>\n",
              "      <td>nan</td>\n",
              "      <td>2</td>\n",
              "      <td>70</td>\n",
              "      <td>72</td>\n",
              "    </tr>\n",
              "    <tr>\n",
              "      <th>34</th>\n",
              "      <td>38538410</td>\n",
              "      <td>Gorgeous private room with private bathroom</td>\n",
              "      <td>272936189</td>\n",
              "      <td>Laura</td>\n",
              "      <td>nan</td>\n",
              "      <td>Bos en Lommer</td>\n",
              "      <td>52.38</td>\n",
              "      <td>4.86</td>\n",
              "      <td>Private room</td>\n",
              "      <td>1</td>\n",
              "      <td>0</td>\n",
              "      <td>NaN</td>\n",
              "      <td>nan</td>\n",
              "      <td>1</td>\n",
              "      <td>0</td>\n",
              "      <td>90</td>\n",
              "    </tr>\n",
              "    <tr>\n",
              "      <th>...</th>\n",
              "      <td>...</td>\n",
              "      <td>...</td>\n",
              "      <td>...</td>\n",
              "      <td>...</td>\n",
              "      <td>...</td>\n",
              "      <td>...</td>\n",
              "      <td>...</td>\n",
              "      <td>...</td>\n",
              "      <td>...</td>\n",
              "      <td>...</td>\n",
              "      <td>...</td>\n",
              "      <td>...</td>\n",
              "      <td>...</td>\n",
              "      <td>...</td>\n",
              "      <td>...</td>\n",
              "      <td>...</td>\n",
              "    </tr>\n",
              "    <tr>\n",
              "      <th>12870</th>\n",
              "      <td>29003215</td>\n",
              "      <td>Tower Studio at Yays Oostenburgergracht</td>\n",
              "      <td>218582446</td>\n",
              "      <td>Yays Oostenburgergracht</td>\n",
              "      <td>nan</td>\n",
              "      <td>Centrum-Oost</td>\n",
              "      <td>52.37</td>\n",
              "      <td>4.92</td>\n",
              "      <td>Hotel room</td>\n",
              "      <td>1</td>\n",
              "      <td>0</td>\n",
              "      <td>NaN</td>\n",
              "      <td>nan</td>\n",
              "      <td>6</td>\n",
              "      <td>358</td>\n",
              "      <td>191</td>\n",
              "    </tr>\n",
              "    <tr>\n",
              "      <th>12874</th>\n",
              "      <td>13168032</td>\n",
              "      <td>Appartment</td>\n",
              "      <td>14321898</td>\n",
              "      <td>Georg</td>\n",
              "      <td>nan</td>\n",
              "      <td>De Pijp - Rivierenbuurt</td>\n",
              "      <td>52.35</td>\n",
              "      <td>4.90</td>\n",
              "      <td>Entire home/apt</td>\n",
              "      <td>3</td>\n",
              "      <td>0</td>\n",
              "      <td>NaN</td>\n",
              "      <td>nan</td>\n",
              "      <td>1</td>\n",
              "      <td>0</td>\n",
              "      <td>240</td>\n",
              "    </tr>\n",
              "    <tr>\n",
              "      <th>12876</th>\n",
              "      <td>37870419</td>\n",
              "      <td>Unique design apartment in centre of Amsterdam</td>\n",
              "      <td>8843719</td>\n",
              "      <td>Valérie</td>\n",
              "      <td>nan</td>\n",
              "      <td>Centrum-West</td>\n",
              "      <td>52.37</td>\n",
              "      <td>4.88</td>\n",
              "      <td>Entire home/apt</td>\n",
              "      <td>2</td>\n",
              "      <td>0</td>\n",
              "      <td>NaN</td>\n",
              "      <td>nan</td>\n",
              "      <td>1</td>\n",
              "      <td>15</td>\n",
              "      <td>300</td>\n",
              "    </tr>\n",
              "    <tr>\n",
              "      <th>12885</th>\n",
              "      <td>41910871</td>\n",
              "      <td>Hotel Estheréa, Deluxe Room</td>\n",
              "      <td>316681026</td>\n",
              "      <td>Hotel Estheréa</td>\n",
              "      <td>nan</td>\n",
              "      <td>Centrum-West</td>\n",
              "      <td>52.37</td>\n",
              "      <td>4.89</td>\n",
              "      <td>Private room</td>\n",
              "      <td>1</td>\n",
              "      <td>0</td>\n",
              "      <td>NaN</td>\n",
              "      <td>nan</td>\n",
              "      <td>5</td>\n",
              "      <td>364</td>\n",
              "      <td>7000</td>\n",
              "    </tr>\n",
              "    <tr>\n",
              "      <th>12894</th>\n",
              "      <td>27569750</td>\n",
              "      <td>Cozy and quite room in Amsterdam Zuid</td>\n",
              "      <td>70048505</td>\n",
              "      <td>Valentina</td>\n",
              "      <td>nan</td>\n",
              "      <td>Buitenveldert - Zuidas</td>\n",
              "      <td>52.33</td>\n",
              "      <td>4.87</td>\n",
              "      <td>Private room</td>\n",
              "      <td>70</td>\n",
              "      <td>0</td>\n",
              "      <td>NaN</td>\n",
              "      <td>nan</td>\n",
              "      <td>1</td>\n",
              "      <td>0</td>\n",
              "      <td>50</td>\n",
              "    </tr>\n",
              "  </tbody>\n",
              "</table>\n",
              "<p>1596 rows × 16 columns</p>\n",
              "</div>"
            ],
            "text/plain": [
              "             id  ... price\n",
              "6       1955400  ...   225\n",
              "13     16565978  ...    20\n",
              "21     18584642  ...   250\n",
              "23     41515131  ...    72\n",
              "34     38538410  ...    90\n",
              "...         ...  ...   ...\n",
              "12870  29003215  ...   191\n",
              "12874  13168032  ...   240\n",
              "12876  37870419  ...   300\n",
              "12885  41910871  ...  7000\n",
              "12894  27569750  ...    50\n",
              "\n",
              "[1596 rows x 16 columns]"
            ]
          },
          "metadata": {
            "tags": []
          },
          "execution_count": 174
        }
      ]
    },
    {
      "cell_type": "code",
      "metadata": {
        "id": "D4gCdRNox5OO",
        "colab_type": "code",
        "colab": {}
      },
      "source": [
        "mean = df['reviews_per_month'].mean()\n",
        "df['reviews_per_month'].fillna(mean,inplace = True)"
      ],
      "execution_count": null,
      "outputs": []
    },
    {
      "cell_type": "code",
      "metadata": {
        "id": "5YjYVFx4z4Gs",
        "colab_type": "code",
        "colab": {}
      },
      "source": [
        "df.drop(columns = ['name','host_name','last_review','neighbourhood_group'],inplace = True)"
      ],
      "execution_count": null,
      "outputs": []
    },
    {
      "cell_type": "code",
      "metadata": {
        "id": "gW7TpW1d5HV0",
        "colab_type": "code",
        "colab": {
          "base_uri": "https://localhost:8080/",
          "height": 340
        },
        "outputId": "1e1dbf63-0bab-4a98-dc70-3b42a1d70f24"
      },
      "source": [
        "df.info()"
      ],
      "execution_count": null,
      "outputs": [
        {
          "output_type": "stream",
          "text": [
            "<class 'pandas.core.frame.DataFrame'>\n",
            "RangeIndex: 12901 entries, 0 to 12900\n",
            "Data columns (total 12 columns):\n",
            " #   Column                          Non-Null Count  Dtype  \n",
            "---  ------                          --------------  -----  \n",
            " 0   id                              12901 non-null  int64  \n",
            " 1   host_id                         12901 non-null  int64  \n",
            " 2   neighbourhood                   12901 non-null  object \n",
            " 3   latitude                        12901 non-null  float64\n",
            " 4   longitude                       12901 non-null  float64\n",
            " 5   room_type                       12901 non-null  object \n",
            " 6   minimum_nights                  12901 non-null  int64  \n",
            " 7   number_of_reviews               12901 non-null  int64  \n",
            " 8   reviews_per_month               12901 non-null  float64\n",
            " 9   calculated_host_listings_count  12901 non-null  int64  \n",
            " 10  availability_365                12901 non-null  int64  \n",
            " 11  price                           12901 non-null  int64  \n",
            "dtypes: float64(3), int64(7), object(2)\n",
            "memory usage: 1.2+ MB\n"
          ],
          "name": "stdout"
        }
      ]
    },
    {
      "cell_type": "code",
      "metadata": {
        "id": "akg21mgK7DqM",
        "colab_type": "code",
        "colab": {}
      },
      "source": [
        "df = pd.get_dummies(df,columns = ['room_type'])"
      ],
      "execution_count": null,
      "outputs": []
    },
    {
      "cell_type": "code",
      "metadata": {
        "id": "O-quk7aq9IRv",
        "colab_type": "code",
        "colab": {}
      },
      "source": [
        "from sklearn.preprocessing import LabelEncoder\n",
        "lb = LabelEncoder()\n",
        "df['neighbourhood'] = lb.fit_transform(df['neighbourhood'])"
      ],
      "execution_count": null,
      "outputs": []
    },
    {
      "cell_type": "code",
      "metadata": {
        "id": "VE6ouN6nnhRc",
        "colab_type": "code",
        "colab": {}
      },
      "source": [
        "df['host_id'] = df['host_id']/max(df['host_id'])\n",
        "# df['id'] = df['id']/max(df['id'])"
      ],
      "execution_count": null,
      "outputs": []
    },
    {
      "cell_type": "code",
      "metadata": {
        "id": "blMhROhA_y3G",
        "colab_type": "code",
        "colab": {
          "base_uri": "https://localhost:8080/",
          "height": 34
        },
        "outputId": "34f8fb98-7681-4169-d1c4-657e03e28f5f"
      },
      "source": [
        "X = df.drop(columns = ['price'])\n",
        "y = df.price\n",
        "\n",
        "print(X.shape,y.shape)"
      ],
      "execution_count": null,
      "outputs": [
        {
          "output_type": "stream",
          "text": [
            "(12901, 14) (12901,)\n"
          ],
          "name": "stdout"
        }
      ]
    },
    {
      "cell_type": "markdown",
      "metadata": {
        "id": "JS_JBpI0SquP",
        "colab_type": "text"
      },
      "source": [
        "## **Training**\n"
      ]
    },
    {
      "cell_type": "code",
      "metadata": {
        "id": "N-n7rbWZAWGD",
        "colab_type": "code",
        "colab": {}
      },
      "source": [
        "from sklearn.model_selection import train_test_split\n",
        "from sklearn import linear_model\n",
        "from sklearn import metrics"
      ],
      "execution_count": null,
      "outputs": []
    },
    {
      "cell_type": "markdown",
      "metadata": {
        "id": "vuJBgAYdS_ti",
        "colab_type": "text"
      },
      "source": [
        "Splitting data"
      ]
    },
    {
      "cell_type": "code",
      "metadata": {
        "id": "9E17dE5uDXMO",
        "colab_type": "code",
        "colab": {
          "base_uri": "https://localhost:8080/",
          "height": 34
        },
        "outputId": "bd3d3952-3e2b-4b6f-d877-08628f5f2c3f"
      },
      "source": [
        "x_train,x_test,y_train,y_test = train_test_split(X,y,test_size=0.2,random_state =  42)\n",
        "print(x_train.shape,x_test.shape,y_train.shape,y_test.shape)"
      ],
      "execution_count": null,
      "outputs": [
        {
          "output_type": "stream",
          "text": [
            "(10320, 14) (2581, 14) (10320,) (2581,)\n"
          ],
          "name": "stdout"
        }
      ]
    },
    {
      "cell_type": "markdown",
      "metadata": {
        "id": "hYcT4R1Sfkm2",
        "colab_type": "text"
      },
      "source": [
        "LinearRegression"
      ]
    },
    {
      "cell_type": "code",
      "metadata": {
        "id": "Oor_7Q3qAXsD",
        "colab_type": "code",
        "colab": {
          "base_uri": "https://localhost:8080/",
          "height": 34
        },
        "outputId": "2a167947-35d2-4ab7-f640-c6986b548f96"
      },
      "source": [
        "model = linear_model.LinearRegression()\n",
        "model.fit(x_train,y_train)\n",
        "pred = model.predict(x_test)\n",
        "print((metrics.mean_squared_error(y_test,pred))**0.5)"
      ],
      "execution_count": null,
      "outputs": [
        {
          "output_type": "stream",
          "text": [
            "218.07484136895755\n"
          ],
          "name": "stdout"
        }
      ]
    },
    {
      "cell_type": "markdown",
      "metadata": {
        "id": "guu_qEIefw5T",
        "colab_type": "text"
      },
      "source": [
        "RandomForestRegressor"
      ]
    },
    {
      "cell_type": "code",
      "metadata": {
        "id": "4gjmbx2lFNEe",
        "colab_type": "code",
        "colab": {
          "base_uri": "https://localhost:8080/",
          "height": 34
        },
        "outputId": "9d901cbd-8bac-41f9-9204-e0a641bc43c5"
      },
      "source": [
        "from sklearn.ensemble import RandomForestRegressor\n",
        "model = RandomForestRegressor()\n",
        "model.fit(x_train,y_train)\n",
        "pred = model.predict(x_test)\n",
        "print((metrics.mean_squared_error(y_test,pred))**0.5)"
      ],
      "execution_count": null,
      "outputs": [
        {
          "output_type": "stream",
          "text": [
            "203.46809611887804\n"
          ],
          "name": "stdout"
        }
      ]
    },
    {
      "cell_type": "markdown",
      "metadata": {
        "id": "OKnXVDFzf0Ik",
        "colab_type": "text"
      },
      "source": [
        "ExtraTreesRegressor"
      ]
    },
    {
      "cell_type": "code",
      "metadata": {
        "id": "l4kL4yzrfPkt",
        "colab_type": "code",
        "colab": {
          "base_uri": "https://localhost:8080/",
          "height": 34
        },
        "outputId": "0d4d0e93-3613-4b5b-dd18-8726b37eb652"
      },
      "source": [
        "# from sklearn.ensemble import ExtraTreesRegressor\n",
        "model = ExtraTreesRegressor()\n",
        "model.fit(x_train,y_train)\n",
        "pred = model.predict(x_test)\n",
        "print((metrics.mean_squared_error(y_test,pred))**0.5)"
      ],
      "execution_count": null,
      "outputs": [
        {
          "output_type": "stream",
          "text": [
            "182.520671480113\n"
          ],
          "name": "stdout"
        }
      ]
    },
    {
      "cell_type": "code",
      "metadata": {
        "id": "SlAQN7QJGkiq",
        "colab_type": "code",
        "colab": {}
      },
      "source": [
        "test_new = pd.read_csv('/content/airbnb_listing_validate.csv')"
      ],
      "execution_count": null,
      "outputs": []
    },
    {
      "cell_type": "code",
      "metadata": {
        "id": "1YeN-EKYHD8q",
        "colab_type": "code",
        "colab": {
          "base_uri": "https://localhost:8080/",
          "height": 547
        },
        "outputId": "480c1e96-d285-4e2c-ea72-cdcb11b08add"
      },
      "source": [
        "test_new.head()"
      ],
      "execution_count": null,
      "outputs": [
        {
          "output_type": "execute_result",
          "data": {
            "text/html": [
              "<div>\n",
              "<style scoped>\n",
              "    .dataframe tbody tr th:only-of-type {\n",
              "        vertical-align: middle;\n",
              "    }\n",
              "\n",
              "    .dataframe tbody tr th {\n",
              "        vertical-align: top;\n",
              "    }\n",
              "\n",
              "    .dataframe thead th {\n",
              "        text-align: right;\n",
              "    }\n",
              "</style>\n",
              "<table border=\"1\" class=\"dataframe\">\n",
              "  <thead>\n",
              "    <tr style=\"text-align: right;\">\n",
              "      <th></th>\n",
              "      <th>id</th>\n",
              "      <th>name</th>\n",
              "      <th>host_id</th>\n",
              "      <th>host_name</th>\n",
              "      <th>neighbourhood_group</th>\n",
              "      <th>neighbourhood</th>\n",
              "      <th>latitude</th>\n",
              "      <th>longitude</th>\n",
              "      <th>room_type</th>\n",
              "      <th>minimum_nights</th>\n",
              "      <th>number_of_reviews</th>\n",
              "      <th>last_review</th>\n",
              "      <th>reviews_per_month</th>\n",
              "      <th>calculated_host_listings_count</th>\n",
              "      <th>availability_365</th>\n",
              "    </tr>\n",
              "  </thead>\n",
              "  <tbody>\n",
              "    <tr>\n",
              "      <th>0</th>\n",
              "      <td>12297872</td>\n",
              "      <td>Great apartment, super location</td>\n",
              "      <td>44144487</td>\n",
              "      <td>Azarakhsh</td>\n",
              "      <td>nan</td>\n",
              "      <td>De Baarsjes - Oud-West</td>\n",
              "      <td>52.37</td>\n",
              "      <td>4.86</td>\n",
              "      <td>Entire home/apt</td>\n",
              "      <td>2</td>\n",
              "      <td>49</td>\n",
              "      <td>15-09-2019</td>\n",
              "      <td>0.99</td>\n",
              "      <td>1</td>\n",
              "      <td>267</td>\n",
              "    </tr>\n",
              "    <tr>\n",
              "      <th>1</th>\n",
              "      <td>3920205</td>\n",
              "      <td>Lovely apartment in Center south!</td>\n",
              "      <td>7594884</td>\n",
              "      <td>Ruben, Sarah &amp; Lindy</td>\n",
              "      <td>nan</td>\n",
              "      <td>De Pijp - Rivierenbuurt</td>\n",
              "      <td>52.35</td>\n",
              "      <td>4.89</td>\n",
              "      <td>Entire home/apt</td>\n",
              "      <td>3</td>\n",
              "      <td>34</td>\n",
              "      <td>19-09-2019</td>\n",
              "      <td>0.49</td>\n",
              "      <td>38</td>\n",
              "      <td>0</td>\n",
              "    </tr>\n",
              "    <tr>\n",
              "      <th>2</th>\n",
              "      <td>26614345</td>\n",
              "      <td>Sunny family friendly house, centrally located</td>\n",
              "      <td>3903937</td>\n",
              "      <td>Maaike</td>\n",
              "      <td>nan</td>\n",
              "      <td>Oud-Noord</td>\n",
              "      <td>52.39</td>\n",
              "      <td>4.91</td>\n",
              "      <td>Entire home/apt</td>\n",
              "      <td>4</td>\n",
              "      <td>3</td>\n",
              "      <td>21-04-2019</td>\n",
              "      <td>0.13</td>\n",
              "      <td>1</td>\n",
              "      <td>0</td>\n",
              "    </tr>\n",
              "    <tr>\n",
              "      <th>3</th>\n",
              "      <td>7433172</td>\n",
              "      <td>1 Br Apartment in Old South A'dam</td>\n",
              "      <td>24969223</td>\n",
              "      <td>Quirien</td>\n",
              "      <td>nan</td>\n",
              "      <td>Zuid</td>\n",
              "      <td>52.34</td>\n",
              "      <td>4.86</td>\n",
              "      <td>Entire home/apt</td>\n",
              "      <td>4</td>\n",
              "      <td>0</td>\n",
              "      <td>NaN</td>\n",
              "      <td>nan</td>\n",
              "      <td>1</td>\n",
              "      <td>0</td>\n",
              "    </tr>\n",
              "    <tr>\n",
              "      <th>4</th>\n",
              "      <td>17019744</td>\n",
              "      <td>Luxurious house with garden - central location</td>\n",
              "      <td>114138837</td>\n",
              "      <td>Sietse</td>\n",
              "      <td>nan</td>\n",
              "      <td>Westerpark</td>\n",
              "      <td>52.37</td>\n",
              "      <td>4.87</td>\n",
              "      <td>Entire home/apt</td>\n",
              "      <td>2</td>\n",
              "      <td>9</td>\n",
              "      <td>24-09-2017</td>\n",
              "      <td>0.23</td>\n",
              "      <td>1</td>\n",
              "      <td>0</td>\n",
              "    </tr>\n",
              "  </tbody>\n",
              "</table>\n",
              "</div>"
            ],
            "text/plain": [
              "         id  ... availability_365\n",
              "0  12297872  ...              267\n",
              "1   3920205  ...                0\n",
              "2  26614345  ...                0\n",
              "3   7433172  ...                0\n",
              "4  17019744  ...                0\n",
              "\n",
              "[5 rows x 15 columns]"
            ]
          },
          "metadata": {
            "tags": []
          },
          "execution_count": 189
        }
      ]
    },
    {
      "cell_type": "code",
      "metadata": {
        "id": "AjIgx5wKHGKf",
        "colab_type": "code",
        "colab": {
          "base_uri": "https://localhost:8080/",
          "height": 391
        },
        "outputId": "a7c71893-cf66-4890-e90f-9b4d44d8d8c9"
      },
      "source": [
        "test_new.info()"
      ],
      "execution_count": null,
      "outputs": [
        {
          "output_type": "stream",
          "text": [
            "<class 'pandas.core.frame.DataFrame'>\n",
            "RangeIndex: 6451 entries, 0 to 6450\n",
            "Data columns (total 15 columns):\n",
            " #   Column                          Non-Null Count  Dtype  \n",
            "---  ------                          --------------  -----  \n",
            " 0   id                              6451 non-null   int64  \n",
            " 1   name                            6440 non-null   object \n",
            " 2   host_id                         6451 non-null   int64  \n",
            " 3   host_name                       6448 non-null   object \n",
            " 4   neighbourhood_group             0 non-null      float64\n",
            " 5   neighbourhood                   6451 non-null   object \n",
            " 6   latitude                        6451 non-null   float64\n",
            " 7   longitude                       6451 non-null   float64\n",
            " 8   room_type                       6451 non-null   object \n",
            " 9   minimum_nights                  6451 non-null   int64  \n",
            " 10  number_of_reviews               6451 non-null   int64  \n",
            " 11  last_review                     5655 non-null   object \n",
            " 12  reviews_per_month               5655 non-null   float64\n",
            " 13  calculated_host_listings_count  6451 non-null   int64  \n",
            " 14  availability_365                6451 non-null   int64  \n",
            "dtypes: float64(4), int64(6), object(5)\n",
            "memory usage: 756.1+ KB\n"
          ],
          "name": "stdout"
        }
      ]
    },
    {
      "cell_type": "code",
      "metadata": {
        "id": "iEYu5rV3HNeZ",
        "colab_type": "code",
        "colab": {}
      },
      "source": [
        "mean = test_new['reviews_per_month'].mean()\n",
        "test_new['reviews_per_month'].fillna(mean,inplace = True)\n",
        "test_new.drop(columns = ['name','host_name','last_review','neighbourhood_group'],inplace = True)"
      ],
      "execution_count": null,
      "outputs": []
    },
    {
      "cell_type": "code",
      "metadata": {
        "id": "7xvkjC3bHiT2",
        "colab_type": "code",
        "colab": {}
      },
      "source": [
        "test_new = pd.get_dummies(test_new,columns = ['room_type'])\n",
        "from sklearn.preprocessing import LabelEncoder\n",
        "lb = LabelEncoder()\n",
        "test_new['neighbourhood'] = lb.fit_transform(test_new['neighbourhood'])"
      ],
      "execution_count": null,
      "outputs": []
    },
    {
      "cell_type": "code",
      "metadata": {
        "id": "FLBj5tozn0Ym",
        "colab_type": "code",
        "colab": {}
      },
      "source": [
        "test_new['host_id'] = test_new['host_id']/max(test_new['host_id'])\n",
        "ids = test_new['id']\n",
        "# test_new['id'] = test_new['id']/max(test_new['id'])"
      ],
      "execution_count": null,
      "outputs": []
    },
    {
      "cell_type": "code",
      "metadata": {
        "id": "Zw0sDEzOH5dN",
        "colab_type": "code",
        "colab": {}
      },
      "source": [
        "prediction = model.predict(test_new)\n",
        "predict = []\n",
        "for i in prediction:\n",
        "  predict.append(int(i))"
      ],
      "execution_count": null,
      "outputs": []
    },
    {
      "cell_type": "code",
      "metadata": {
        "id": "gRbK3oSEIAFk",
        "colab_type": "code",
        "colab": {}
      },
      "source": [
        "res = pd.DataFrame(predict)\n",
        "res.index = ids \n",
        "res.columns = [\"price\"]\n",
        "# To download the csv file locally\n",
        "from google.colab import files\n",
        "res.to_csv('prediction_results.csv')         "
      ],
      "execution_count": null,
      "outputs": []
    },
    {
      "cell_type": "code",
      "metadata": {
        "id": "97r5e-hzIaAE",
        "colab_type": "code",
        "colab": {
          "base_uri": "https://localhost:8080/",
          "height": 68
        },
        "outputId": "b534a72d-6d99-4a50-8401-b2ffbde33c02"
      },
      "source": [
        "!kaggle competitions submit -c dphi-amsterdam-airbnb-data -f '/content/prediction_results.csv' -m \"Message\""
      ],
      "execution_count": null,
      "outputs": [
        {
          "output_type": "stream",
          "text": [
            "Warning: Looks like you're using an outdated API Version, please consider updating (server 1.5.6 / client 1.5.4)\n",
            "100% 79.4k/79.4k [00:07<00:00, 10.7kB/s]\n",
            "403 - Your team has used its submission allowance (20 of 20). This resets at midnight UTC (6.3 hours from now).\n"
          ],
          "name": "stdout"
        }
      ]
    },
    {
      "cell_type": "code",
      "metadata": {
        "id": "Wyb2_aaZp9Il",
        "colab_type": "code",
        "colab": {}
      },
      "source": [
        ""
      ],
      "execution_count": null,
      "outputs": []
    }
  ]
}